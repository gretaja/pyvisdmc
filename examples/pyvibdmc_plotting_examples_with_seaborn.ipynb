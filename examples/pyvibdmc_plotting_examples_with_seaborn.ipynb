{
 "cells": [
  {
   "cell_type": "code",
   "execution_count": null,
   "id": "4885a138",
   "metadata": {},
   "outputs": [],
   "source": [
    "import numpy as np\n",
    "import pyvibdmc as pv\n",
    "import matplotlib.pyplot as plt\n",
    "import h5py"
   ]
  },
  {
   "cell_type": "code",
   "execution_count": null,
   "id": "75bab30b",
   "metadata": {},
   "outputs": [],
   "source": [
    "path_to_data = 'D:/GitHub/pyvisdmc/data/h5o3_example_data/1.0w_50000_walkers_50000t_1dt' #path to the folder containing the simulation data"
   ]
  },
  {
   "cell_type": "markdown",
   "id": "0e680004",
   "metadata": {},
   "source": [
    "For this example notebook, we'll play with the system I call \"H5O3\", and the order of the atoms in the simulation is O, H, O, H, H, O, H, H. This simulation propagated 50,000 walkers for 50,000 timesteps."
   ]
  },
  {
   "cell_type": "markdown",
   "id": "d69dac52",
   "metadata": {},
   "source": [
    "Below is the code for loading in the simulation data using PyVibDMC's built-in functions"
   ]
  },
  {
   "cell_type": "code",
   "execution_count": null,
   "id": "fd5edc7f",
   "metadata": {},
   "outputs": [],
   "source": [
    "sim_data = pv.SimInfo(f'{path_to_data}/H5O3_0_sim_info.hdf5') #name of the simulation summary file\n",
    "\n",
    "#ZPE = tutorial_sim.get_zpe(onwards=15000, ret_cm=True)\n",
    "\n",
    "start = 10000 #where we want to start averaging the energy from\n",
    "stop = 50000 #where we want to average until\n",
    "\n",
    "vref = sim_data.get_vref(ret_cm=True) #generates an array of the timesteps and the average energy of the ensemble at that step\n",
    "ZPE = np.mean(vref[start:stop][:,1]) #calculate the average energy in the relevant range of time steps (while the energy is stable)\n",
    "\n",
    "plt.plot(vref[:,0],vref[:,1])\n",
    "plt.hlines(y= ZPE,xmin = start,xmax= stop, color = 'tab:orange', label='ZPE: {0:.2f}'.format(ZPE))\n",
    "plt.legend()\n",
    "\n",
    "plt.ylabel('Eref (cm$^{-1}$)')\n",
    "plt.xlabel('Timestep (1 a.u.)')\n",
    "plt.ylim(7000,15000)\n",
    "\n",
    "plt.show()"
   ]
  },
  {
   "cell_type": "code",
   "execution_count": null,
   "id": "c00dcc79",
   "metadata": {},
   "outputs": [],
   "source": [
    "import seaborn as sns\n",
    "\n",
    "sns.set_style(\"white\")\n",
    "\n",
    "sns.lineplot(data=vref[:,1])\n",
    "\n",
    "plt.hlines(y= ZPE,xmin = start,xmax= stop, color = 'tab:orange', label='ZPE: {0:.2f}'.format(ZPE))\n",
    "plt.legend()\n",
    "\n",
    "plt.ylabel('Eref (cm$^{-1}$)')\n",
    "plt.xlabel('Timestep (1 a.u.)')\n",
    "plt.ylim(7000,15000)\n",
    "plt.show()"
   ]
  },
  {
   "cell_type": "markdown",
   "id": "40dcaf4e",
   "metadata": {},
   "source": [
    "Now that we can verify the energy is stable and the simulation is well-converged from timesteps 10,000 to 50,000, we can pull the structures from the simulations across all those timesteps to get statistics on the ground state wave function."
   ]
  },
  {
   "cell_type": "code",
   "execution_count": null,
   "id": "5614eaeb",
   "metadata": {},
   "outputs": [],
   "source": [
    "snapshots = np.arange(10000,50000,1000) #pull data every 1000 time steps from 10,000 to 50,000\n",
    "\n",
    "sim_data = pv.SimInfo(f'{path_to_data}/H5O3_0_sim_info.hdf5') #name of the simulation summary file\n",
    "coords, weights = sim_data.get_wfns(snapshots) #load in the molecule geometries (coords) and their associated weights\n",
    "coords = pv.Constants.convert(coords,'angstroms',to_AU=False) # conversion of coordinates from atomic units to Angstroms (more common in chemistry)"
   ]
  },
  {
   "cell_type": "markdown",
   "id": "2a46c9b4",
   "metadata": {},
   "source": [
    "PyVibDMC has functions for calculating bond lengths and bond angles, so we can calculate these quantities across the whole ensemble of molecules and then plot the distributions of these coordinates"
   ]
  },
  {
   "cell_type": "code",
   "execution_count": null,
   "id": "da605cbf",
   "metadata": {},
   "outputs": [],
   "source": [
    "analyzer = pv.AnalyzeWfn(coords)\n",
    "\n",
    "hydroxide_distance = analyzer.bond_length(0,1) #calculates the distance between the first two atoms in the coordinates array, which correspond to the hydroxide ion\n",
    "\n",
    "exp_val = analyzer.exp_val(hydroxide_distance,weights) #calculates the expectation value (average) of the quantity\n",
    "\n",
    "#plot a histogram of all the values in the ensemble\n",
    "plt.hist(hydroxide_distance, bins=50, weights = weights, density=True) #normalizes the distribution so the total probability is 1\n",
    "\n",
    "#plot a vertical line where the average value is\n",
    "plt.vlines(exp_val,0,6,color = 'magenta',label=rf'$\\langle$OH$\\rangle$ = {exp_val:.4f} $\\AA$')\n",
    "\n",
    "plt.legend()\n",
    "plt.xlabel('Hydroxide Bond Length ($\\AA$)')\n",
    "plt.ylabel('Probability Amplitude')\n",
    "plt.show() #basic histogramm kind of ugly"
   ]
  },
  {
   "cell_type": "code",
   "execution_count": null,
   "id": "a4ae58e5",
   "metadata": {},
   "outputs": [],
   "source": [
    "sns.histplot(hydroxide_distance, kde=True, bins=50)\n",
    "plt.xlabel('Hydroxide Bond Length ($\\AA$)')\n",
    "plt.ylabel('Probability Amplitude')\n",
    "plt.show()"
   ]
  },
  {
   "cell_type": "markdown",
   "id": "fb274c1d",
   "metadata": {},
   "source": [
    "Sometimes it's easier to convert the histogram to a single line plot that connects the dots between the bin values, especially when we want to plot more than one distribution on top of each other"
   ]
  },
  {
   "cell_type": "code",
   "execution_count": null,
   "id": "2b925b37",
   "metadata": {},
   "outputs": [],
   "source": [
    "n, bins = np.histogram(hydroxide_distance,bins=50,weights=weights,density=True)\n",
    "\n",
    "bin_centers = (bins[:-1] + bins[1:]) / 2\n",
    "\n",
    "plt.plot(bin_centers,n,color='rebeccapurple')\n",
    "\n",
    "#plot a vertical line where the average value is\n",
    "plt.vlines(exp_val,0,6,color = 'magenta',label=rf'$\\langle$OH$\\rangle$ = {exp_val:.4f} $\\AA$')\n",
    "\n",
    "plt.legend()\n",
    "plt.xlabel('Hydroxide Bond Length ($\\AA$)')\n",
    "plt.ylabel('Probability Amplitude')\n",
    "plt.show()"
   ]
  },
  {
   "cell_type": "code",
   "execution_count": null,
   "id": "d9f6bd5e",
   "metadata": {},
   "outputs": [],
   "source": [
    "sns.kdeplot(hydroxide_distance,weights=weights)\n",
    "plt.vlines(exp_val,0,5,color = 'magenta',label=rf'$\\langle$OH$\\rangle$ = {exp_val:.4f} $\\AA$')\n",
    "plt.xlabel('Hydroxide Bond Length ($\\AA$)')\n",
    "plt.ylabel('Probability Amplitude')\n",
    "plt.show()"
   ]
  },
  {
   "cell_type": "markdown",
   "id": "d4dcccdd",
   "metadata": {},
   "source": [
    "Let's try plotting all the different OH distances on top of each other"
   ]
  },
  {
   "cell_type": "code",
   "execution_count": null,
   "id": "423e5e4c",
   "metadata": {},
   "outputs": [],
   "source": [
    "OHs = [[0,1],[2,3],[2,4],[5,6],[5,7]]\n",
    "\n",
    "for dist in range(len(OHs)):\n",
    "    oh_distance = analyzer.bond_length(OHs[dist][0],OHs[dist][1])\n",
    "    exp_val = analyzer.exp_val(oh_distance,weights) #calculates the expectation value (average) of the quantity\n",
    "\n",
    "    n, bins = np.histogram(oh_distance,bins=50,weights=weights,density=True)\n",
    "\n",
    "    bin_centers = (bins[:-1] + bins[1:]) / 2\n",
    "\n",
    "    plt.plot(bin_centers,n,label=rf'$\\langle$O{OHs[dist][0]}H{OHs[dist][1]}$\\rangle$ = {exp_val:.4f} $\\AA$')\n",
    "    plt.legend()\n",
    "\n",
    "plt.legend()\n",
    "plt.xlabel('OH Bond Length ($\\AA$)')\n",
    "plt.ylabel('Probability Amplitude')\n",
    "plt.show()"
   ]
  },
  {
   "cell_type": "code",
   "execution_count": null,
   "id": "2c002e47",
   "metadata": {},
   "outputs": [],
   "source": [
    "OHs = [[0,1],[2,3],[2,4],[5,6],[5,7]]\n",
    "\n",
    "for dist in range(len(OHs)):\n",
    "    oh_distance = analyzer.bond_length(OHs[dist][0],OHs[dist][1])\n",
    "    exp_val = analyzer.exp_val(oh_distance,weights) #calculates the expectation value (average) of the quantity\n",
    "\n",
    "    sns.kdeplot(oh_distance,weights=weights,label=rf'$\\langle$O{OHs[dist][0]}H{OHs[dist][1]}$\\rangle$ = {exp_val:.4f} $\\AA$')\n",
    "    plt.legend()\n",
    "\n",
    "plt.legend()\n",
    "plt.xlabel('OH Bond Length ($\\AA$)')\n",
    "plt.ylabel('Probability Amplitude')\n",
    "plt.show()"
   ]
  },
  {
   "cell_type": "markdown",
   "id": "701454a8",
   "metadata": {},
   "source": [
    "Next, we can see if any of these geometries are correlated by making a 2D histogram or contour plot between 2 of the quantities."
   ]
  },
  {
   "cell_type": "code",
   "execution_count": null,
   "id": "75480de5",
   "metadata": {},
   "outputs": [],
   "source": [
    "#lets look at the two of the OH distances in the molecule that I already know will be correlated :)\n",
    "\n",
    "plt.figure(figsize=(6,6))\n",
    "\n",
    "OH_1 = analyzer.bond_length(2,3)\n",
    "OH_2 = analyzer.bond_length(5,6)\n",
    "\n",
    "plt.hist2d(OH_1,OH_2,bins=[np.arange(0.6,1.8,0.02),np.arange(0.6,1.8,0.02)])\n",
    "plt.xlabel('O2H3 Distance ($\\AA$)')\n",
    "plt.ylabel('O5H6 Distance ($\\AA$)')\n",
    "plt.show()\n",
    "\n",
    "#hard to see but since this plot isn't perfectly circular, there's some correlation between these two quantities\n",
    "#for example, as one distance gets longer, there's a greater probability that the other will get shorter"
   ]
  },
  {
   "cell_type": "code",
   "execution_count": null,
   "id": "ccf3d5d3",
   "metadata": {},
   "outputs": [],
   "source": [
    "sns.histplot(x=OH_1,y=OH_2,cbar=True)\n",
    "plt.xlabel('O2H3 Distance ($\\AA$)')\n",
    "plt.ylabel('O5H6 Distance ($\\AA$)')\n",
    "plt.show()"
   ]
  },
  {
   "cell_type": "markdown",
   "id": "bee15862",
   "metadata": {},
   "source": [
    "For my own research in training neural net models on this data, I also like to look at the full distribution of molecular energies in the simulation"
   ]
  },
  {
   "cell_type": "code",
   "execution_count": null,
   "id": "1020f85e",
   "metadata": {},
   "outputs": [],
   "source": [
    "training_snaps = np.arange(0,50000,1000)\n",
    "energies_list = []\n",
    "\n",
    "for i in training_snaps:\n",
    "    cds,energies = sim_data.get_training(f'{path_to_data}/H5O3_0_training_{i}ts.hdf5',ret_ang=False, ret_cm=True) #return the energies in cm-1\n",
    "    \n",
    "    energies_list.append(energies)\n",
    "    \n",
    "energies_array = np.concatenate(energies_list)"
   ]
  },
  {
   "cell_type": "code",
   "execution_count": null,
   "id": "dc1746c7",
   "metadata": {},
   "outputs": [],
   "source": [
    "n, bins = np.histogram(energies_array,bins=150,weights=None,density=True)\n",
    "bin_centers = (bins[:-1] + bins[1:]) / 2\n",
    "plt.plot(bin_centers, n,linewidth = 2,label='Training Energies',color='darkblue')\n",
    "\n",
    "plt.vlines(ZPE,0,0.000075,linestyle='dotted',color='gray',label='Zero Point Energy',linewidth=2.5)\n",
    "\n",
    "plt.xlim(0,40000)\n",
    "plt.xticks(ticks =[0,10000,20000,30000,40000], labels=[0,10000,20000,30000,40000])\n",
    "plt.ylim(0,1e-4)\n",
    "# Format y-axis labels in scientific notation\n",
    "plt.ticklabel_format(axis='y', style='sci', scilimits=(0,0))\n",
    "plt.legend(frameon=False,fontsize=14)\n",
    "plt.xlabel('Energy (cm$^{-1}$)',fontsize=14)\n",
    "plt.ylabel('Fraction of Geometries',fontsize=14)\n",
    "plt.show()"
   ]
  },
  {
   "cell_type": "markdown",
   "id": "9a7d6ba7",
   "metadata": {},
   "source": [
    "Here I can compare the relative distribution of energies in all my simulation data, as it relates to our determined zero point energy for the system. There's a blip right at 0 because I start my all my walkers at the minimum energy structure at the start of the simulation, and then I collected all those energies right away. If you want to just look at the energies after the simulation reaches equilibration, try changing the \"training_snaps\" range to start at something like 10,000"
   ]
  },
  {
   "cell_type": "code",
   "execution_count": null,
   "id": "a6edad47",
   "metadata": {},
   "outputs": [],
   "source": [
    "sns.kdeplot(energies_array,linewidth = 2,label='Training Energies',color='darkblue')\n",
    "\n",
    "plt.vlines(ZPE,0,0.000075,linestyle='dotted',color='gray',label='Zero Point Energy',linewidth=2.5)\n",
    "\n",
    "plt.xlim(0,40000)\n",
    "plt.xticks(ticks =[0,10000,20000,30000,40000], labels=[0,10000,20000,30000,40000])\n",
    "plt.ylim(0,1e-4)\n",
    "# Format y-axis labels in scientific notation\n",
    "plt.ticklabel_format(axis='y', style='sci', scilimits=(0,0))\n",
    "plt.legend(frameon=False,fontsize=14)\n",
    "plt.xlabel('Energy (cm$^{-1}$)',fontsize=14)\n",
    "plt.ylabel('Fraction of Geometries',fontsize=14)\n",
    "plt.show()"
   ]
  },
  {
   "cell_type": "code",
   "execution_count": null,
   "id": "57836f76",
   "metadata": {},
   "outputs": [],
   "source": []
  },
  {
   "cell_type": "code",
   "execution_count": null,
   "id": "d039b33c",
   "metadata": {},
   "outputs": [],
   "source": []
  }
 ],
 "metadata": {
  "kernelspec": {
   "display_name": "Python 3",
   "language": "python",
   "name": "python3"
  },
  "language_info": {
   "codemirror_mode": {
    "name": "ipython",
    "version": 3
   },
   "file_extension": ".py",
   "mimetype": "text/x-python",
   "name": "python",
   "nbconvert_exporter": "python",
   "pygments_lexer": "ipython3",
   "version": "3.11.9"
  }
 },
 "nbformat": 4,
 "nbformat_minor": 5
}
